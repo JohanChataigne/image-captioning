{
 "cells": [
  {
   "cell_type": "markdown",
   "metadata": {},
   "source": [
    "## Imports"
   ]
  },
  {
   "cell_type": "code",
   "execution_count": 31,
   "metadata": {},
   "outputs": [
    {
     "name": "stdout",
     "output_type": "stream",
     "text": [
      "PyTorch version: 1.7.1\n",
      "GPU found :)\n"
     ]
    }
   ],
   "source": [
    "import torch\n",
    "import torch.nn as nn\n",
    "import torch.nn.functional as F\n",
    "import torch.optim as optim\n",
    "import torchvision.models as m\n",
    "from torch.utils.data import DataLoader\n",
    "from transforms import *\n",
    "from torchvision.transforms import Compose\n",
    "from torchsummary import summary\n",
    "from random_caption_dataset import RandomCaptionDataset\n",
    "from text_preprocessing import *\n",
    "\n",
    "print(f'PyTorch version: {torch.__version__}')\n",
    "print(\"GPU found :)\" if torch.cuda.is_available() else \"No GPU :(\")\n",
    "\n",
    "# Device configuration\n",
    "device = torch.device('cuda' if torch.cuda.is_available() else 'cpu')\n",
    "#device='cpu'"
   ]
  },
  {
   "cell_type": "code",
   "execution_count": 32,
   "metadata": {},
   "outputs": [],
   "source": [
    "IMAGE_SIZE = 224\n",
    "EMBEDDING_SIZE = 512\n",
    "train_annotations_file = './flickr8k/annotations/annotations_image_id_train.csv'\n",
    "test_annotations_file = './flickr8k/annotations/annotations_image_id_test.csv'"
   ]
  },
  {
   "cell_type": "markdown",
   "metadata": {},
   "source": [
    "## Datas section"
   ]
  },
  {
   "cell_type": "code",
   "execution_count": 33,
   "metadata": {},
   "outputs": [],
   "source": [
    "# Init text preprocessing class\n",
    "tp = TextPreprocessor(train_annotations_file, sep=';')"
   ]
  },
  {
   "cell_type": "code",
   "execution_count": 34,
   "metadata": {},
   "outputs": [
    {
     "name": "stdout",
     "output_type": "stream",
     "text": [
      "Random dataset size: 6000\n"
     ]
    }
   ],
   "source": [
    "transforms = Compose([Rescale(256), \n",
    "                      RandomCrop(IMAGE_SIZE), \n",
    "                      ToTensor(), Normalize(),\n",
    "                      OneHotEncode(tp)])\n",
    "\n",
    "train_random_dataset = RandomCaptionDataset('./flickr8k/images/train/', train_annotations_file, transform=transforms)\n",
    "\n",
    "print(f'Random dataset size: {len(train_random_dataset)}')"
   ]
  },
  {
   "cell_type": "code",
   "execution_count": 35,
   "metadata": {},
   "outputs": [],
   "source": [
    "batch_size = 1\n",
    "\n",
    "# Build data loader\n",
    "train_random_loader = DataLoader(train_random_dataset, batch_size=batch_size)"
   ]
  },
  {
   "cell_type": "markdown",
   "metadata": {},
   "source": [
    "## Model section"
   ]
  },
  {
   "cell_type": "code",
   "execution_count": 36,
   "metadata": {},
   "outputs": [],
   "source": [
    "# retrieve pretrained model for features extraction\n",
    "base_cnn = m.resnet18(pretrained=True)\n",
    "#base_cnn"
   ]
  },
  {
   "cell_type": "code",
   "execution_count": 37,
   "metadata": {},
   "outputs": [],
   "source": [
    "# Keep only the feature extraction layers of the model\n",
    "cnn = nn.Sequential(*(list(base_cnn.children())[:-1])).to(device, dtype=torch.float)\n",
    "#summary(cnn, (3, IMAGE_SIZE, IMAGE_SIZE))"
   ]
  },
  {
   "cell_type": "markdown",
   "metadata": {},
   "source": [
    "## Build LSTM + Embedding"
   ]
  },
  {
   "cell_type": "code",
   "execution_count": 38,
   "metadata": {},
   "outputs": [
    {
     "name": "stdout",
     "output_type": "stream",
     "text": [
      "8255\n"
     ]
    }
   ],
   "source": [
    "vocab_size = tp.vocab_size\n",
    "print(vocab_size)\n",
    "\n",
    "# RNN with LSTM of  layer\n",
    "class LSTMCaptioning(nn.Module):\n",
    "    \n",
    "    def __init__(self, input_size, hidden_size, output_size):\n",
    "        super(LSTMCaptioning, self).__init__()\n",
    "        self.lstm = nn.LSTM(input_size, hidden_size)\n",
    "        self.hidden2out = nn.Linear(hidden_size, output_size)\n",
    "        \n",
    "    def forward(self, x, previous_state):\n",
    "         \n",
    "        # Get hidden states for each t (out) , and latest one (h = (ht, ct))\n",
    "        lstm_out, (hn, cn) = self.lstm(x, previous_state)\n",
    "        \n",
    "        # Convert output of rnn to output targeted size\n",
    "        out = self.hidden2out(lstm_out.view(1, -1))\n",
    "        \n",
    "        # Compute probability distribution over all words for this t\n",
    "        pt = F.log_softmax(out, dim=1)\n",
    "                           \n",
    "        return (hn, cn), pt\n",
    "\n",
    "# Not trained embedding layer to encode words to hidden space\n",
    "embedding = nn.Embedding(vocab_size, EMBEDDING_SIZE).to(device)"
   ]
  },
  {
   "cell_type": "markdown",
   "metadata": {},
   "source": [
    "## Train model"
   ]
  },
  {
   "cell_type": "code",
   "execution_count": 39,
   "metadata": {},
   "outputs": [],
   "source": [
    "input_size = EMBEDDING_SIZE\n",
    "hidden_size = 300\n",
    "\n",
    "model = LSTMCaptioning(input_size, hidden_size, vocab_size).to(device, dtype=torch.float)"
   ]
  },
  {
   "cell_type": "code",
   "execution_count": 11,
   "metadata": {},
   "outputs": [
    {
     "name": "stdout",
     "output_type": "stream",
     "text": [
      "Epoch [1/10], step [600/6000], loss: 0.9465\n",
      "Epoch [1/10], step [1200/6000], loss: 1.8174\n",
      "Epoch [1/10], step [1800/6000], loss: 0.3157\n",
      "Epoch [1/10], step [2400/6000], loss: 0.3442\n",
      "Epoch [1/10], step [3000/6000], loss: 0.4863\n",
      "Epoch [1/10], step [3600/6000], loss: 0.4348\n",
      "Epoch [1/10], step [4200/6000], loss: 2.2075\n",
      "Epoch [1/10], step [4800/6000], loss: 16.5890\n",
      "Epoch [1/10], step [5400/6000], loss: 2.9704\n",
      "Epoch [1/10], step [6000/6000], loss: 2.3771\n",
      "Epoch [2/10], step [600/6000], loss: 0.5536\n",
      "Epoch [2/10], step [1200/6000], loss: 1.7598\n",
      "Epoch [2/10], step [1800/6000], loss: 0.3626\n",
      "Epoch [2/10], step [2400/6000], loss: 17.1973\n",
      "Epoch [2/10], step [3000/6000], loss: 0.4023\n",
      "Epoch [2/10], step [3600/6000], loss: 0.5249\n",
      "Epoch [2/10], step [4200/6000], loss: 2.1344\n",
      "Epoch [2/10], step [4800/6000], loss: 16.1560\n",
      "Epoch [2/10], step [5400/6000], loss: 0.5574\n",
      "Epoch [2/10], step [6000/6000], loss: 0.4632\n",
      "Epoch [3/10], step [600/6000], loss: 0.5931\n",
      "Epoch [3/10], step [1200/6000], loss: 1.6696\n",
      "Epoch [3/10], step [1800/6000], loss: 0.4569\n",
      "Epoch [3/10], step [2400/6000], loss: 17.9105\n",
      "Epoch [3/10], step [3000/6000], loss: 0.4368\n",
      "Epoch [3/10], step [3600/6000], loss: 2.4281\n",
      "Epoch [3/10], step [4200/6000], loss: 2.1371\n",
      "Epoch [3/10], step [4800/6000], loss: 3.1183\n",
      "Epoch [3/10], step [5400/6000], loss: 0.4649\n",
      "Epoch [3/10], step [6000/6000], loss: 5.7710\n",
      "Epoch [4/10], step [600/6000], loss: 0.6282\n",
      "Epoch [4/10], step [1200/6000], loss: 2.4595\n",
      "Epoch [4/10], step [1800/6000], loss: 0.3514\n",
      "Epoch [4/10], step [2400/6000], loss: 18.7327\n",
      "Epoch [4/10], step [3000/6000], loss: 0.3282\n",
      "Epoch [4/10], step [3600/6000], loss: 0.4565\n",
      "Epoch [4/10], step [4200/6000], loss: 2.3021\n",
      "Epoch [4/10], step [4800/6000], loss: 3.3730\n",
      "Epoch [4/10], step [5400/6000], loss: 0.4666\n",
      "Epoch [4/10], step [6000/6000], loss: 0.4780\n",
      "Epoch [5/10], step [600/6000], loss: 0.6544\n",
      "Epoch [5/10], step [1200/6000], loss: 1.5796\n",
      "Epoch [5/10], step [1800/6000], loss: 0.3316\n",
      "Epoch [5/10], step [2400/6000], loss: 0.3721\n",
      "Epoch [5/10], step [3000/6000], loss: 0.3776\n",
      "Epoch [5/10], step [3600/6000], loss: 0.5903\n",
      "Epoch [5/10], step [4200/6000], loss: 2.2626\n",
      "Epoch [5/10], step [4800/6000], loss: 18.7613\n",
      "Epoch [5/10], step [5400/6000], loss: 0.3651\n",
      "Epoch [5/10], step [6000/6000], loss: 2.3657\n",
      "Epoch [6/10], step [600/6000], loss: 0.8486\n",
      "Epoch [6/10], step [1200/6000], loss: 1.7267\n",
      "Epoch [6/10], step [1800/6000], loss: 0.4437\n",
      "Epoch [6/10], step [2400/6000], loss: 0.2500\n",
      "Epoch [6/10], step [3000/6000], loss: 0.4075\n",
      "Epoch [6/10], step [3600/6000], loss: 0.6953\n",
      "Epoch [6/10], step [4200/6000], loss: 1.8956\n",
      "Epoch [6/10], step [4800/6000], loss: 2.8290\n",
      "Epoch [6/10], step [5400/6000], loss: 0.5798\n",
      "Epoch [6/10], step [6000/6000], loss: 0.5767\n",
      "Epoch [7/10], step [600/6000], loss: 0.6708\n",
      "Epoch [7/10], step [1200/6000], loss: 1.7409\n",
      "Epoch [7/10], step [1800/6000], loss: 18.6209\n",
      "Epoch [7/10], step [2400/6000], loss: 0.2587\n",
      "Epoch [7/10], step [3000/6000], loss: 0.3107\n",
      "Epoch [7/10], step [3600/6000], loss: 2.9058\n",
      "Epoch [7/10], step [4200/6000], loss: 1.9044\n",
      "Epoch [7/10], step [4800/6000], loss: 3.7658\n",
      "Epoch [7/10], step [5400/6000], loss: 0.6080\n",
      "Epoch [7/10], step [6000/6000], loss: 0.6157\n",
      "Epoch [8/10], step [600/6000], loss: 0.7842\n",
      "Epoch [8/10], step [1200/6000], loss: 1.6958\n",
      "Epoch [8/10], step [1800/6000], loss: 0.3592\n",
      "Epoch [8/10], step [2400/6000], loss: 16.6761\n",
      "Epoch [8/10], step [3000/6000], loss: 2.9398\n",
      "Epoch [8/10], step [3600/6000], loss: 1.9892\n",
      "Epoch [8/10], step [4200/6000], loss: 1.9317\n",
      "Epoch [8/10], step [4800/6000], loss: 12.9344\n",
      "Epoch [8/10], step [5400/6000], loss: 3.4400\n",
      "Epoch [8/10], step [6000/6000], loss: 0.5555\n",
      "Epoch [9/10], step [600/6000], loss: 0.6855\n",
      "Epoch [9/10], step [1200/6000], loss: 2.4077\n",
      "Epoch [9/10], step [1800/6000], loss: 0.3187\n",
      "Epoch [9/10], step [2400/6000], loss: 0.2263\n",
      "Epoch [9/10], step [3000/6000], loss: 0.4607\n",
      "Epoch [9/10], step [3600/6000], loss: 1.7967\n",
      "Epoch [9/10], step [4200/6000], loss: 1.8596\n",
      "Epoch [9/10], step [4800/6000], loss: 3.2897\n",
      "Epoch [9/10], step [5400/6000], loss: 0.6738\n",
      "Epoch [9/10], step [6000/6000], loss: 0.6199\n",
      "Epoch [10/10], step [600/6000], loss: 0.6307\n",
      "Epoch [10/10], step [1200/6000], loss: 1.8742\n",
      "Epoch [10/10], step [1800/6000], loss: 0.3509\n",
      "Epoch [10/10], step [2400/6000], loss: 0.3646\n",
      "Epoch [10/10], step [3000/6000], loss: 3.6824\n",
      "Epoch [10/10], step [3600/6000], loss: 2.1247\n",
      "Epoch [10/10], step [4200/6000], loss: 1.8220\n",
      "Epoch [10/10], step [4800/6000], loss: 9.2791\n",
      "Epoch [10/10], step [5400/6000], loss: 0.4595\n",
      "Epoch [10/10], step [6000/6000], loss: 0.6367\n"
     ]
    }
   ],
   "source": [
    "learning_rate = 0.001\n",
    "optimizer = torch.optim.Adam(model.parameters(), lr=learning_rate)\n",
    "\n",
    "num_epoch = 10\n",
    "step_count = len(train_random_loader)\n",
    "loss_function = nn.NLLLoss()\n",
    "\n",
    "# Random init the lstm state\n",
    "h0 = torch.rand((1, batch_size, hidden_size)).to(device, dtype=torch.float)\n",
    "c0 = torch.rand((1, batch_size, hidden_size)).to(device, dtype=torch.float)\n",
    "\n",
    "\n",
    "for epoch in range(num_epoch):\n",
    "    for i, sample in enumerate(train_random_loader):\n",
    "        \n",
    "        image = sample['image'].to(device, dtype=torch.float)\n",
    "        caption = sample['caption'].to(device, dtype=torch.long)\n",
    "        \n",
    "        # Reset grad\n",
    "        model.zero_grad()\n",
    "        \n",
    "        # Get the input image embedding \n",
    "        image_embedding = cnn(image).view(-1, batch_size, EMBEDDING_SIZE)\n",
    "        \n",
    "        \n",
    "        # Forward pass for t=-1: image\n",
    "        (hn, cn), probs = model(image_embedding, (h0, c0))\n",
    "        \n",
    "        del image_embedding\n",
    "        del image\n",
    "        \n",
    "        target = tp.target_from_vect(caption[:, 0]).to(device)\n",
    "        \n",
    "        # Compute loss for 1st word prediction\n",
    "        loss = loss_function(probs, target)\n",
    "        \n",
    "        # Forward pass for t>=0: n - 1 first words of the sentence\n",
    "        for j, word in enumerate(caption[:, :-1]):\n",
    "\n",
    "            \n",
    "            # Get index of the word in embedding matrix\n",
    "            idxs = torch.argmax(word)\n",
    "            \n",
    "            # Encode word to hidden space\n",
    "            word_embedding = embedding(idxs).view(1, batch_size, EMBEDDING_SIZE)\n",
    "            \n",
    "            # Feed the rnn\n",
    "            (hn, cn), probs = model(word_embedding, (hn, cn))\n",
    "            \n",
    "            target = tp.target_from_vect(caption[:, j+1]).to(device)\n",
    "            \n",
    "            # Add current word's loss\n",
    "            loss += loss_function(probs, target)\n",
    "\n",
    "        \n",
    "        # Compute loss and backprop\n",
    "        loss.backward()\n",
    "        optimizer.step()\n",
    "        \n",
    "        \n",
    "        # Debug\n",
    "        if((i+1) % (step_count/10) == 0):\n",
    "            print(\n",
    "                        f\"Epoch [{epoch + 1}/{num_epoch}]\"\n",
    "                        f\", step [{i + 1}/{step_count}]\"\n",
    "                        f\", loss: {loss.item():.4f}\"\n",
    "                    )\n",
    "        "
   ]
  },
  {
   "cell_type": "code",
   "execution_count": 13,
   "metadata": {},
   "outputs": [],
   "source": [
    "# Save model \n",
    "torch.save(model.state_dict(), './models/model_v1_random')"
   ]
  },
  {
   "cell_type": "markdown",
   "metadata": {},
   "source": [
    "## Test model performances"
   ]
  },
  {
   "cell_type": "code",
   "execution_count": 40,
   "metadata": {},
   "outputs": [
    {
     "data": {
      "text/plain": [
       "LSTMCaptioning(\n",
       "  (lstm): LSTM(512, 300)\n",
       "  (hidden2out): Linear(in_features=300, out_features=8255, bias=True)\n",
       ")"
      ]
     },
     "execution_count": 40,
     "metadata": {},
     "output_type": "execute_result"
    }
   ],
   "source": [
    "# Load model for evaluation\n",
    "trained_model = LSTMCaptioning(input_size, hidden_size, vocab_size)\n",
    "trained_model.load_state_dict(torch.load('./models/model_v1_random'))\n",
    "trained_model.to(device)"
   ]
  },
  {
   "cell_type": "code",
   "execution_count": 41,
   "metadata": {},
   "outputs": [],
   "source": [
    "# Create test loaders for datasets\n",
    "\n",
    "# Only preprocess images\n",
    "test_transforms = Compose([Rescale(256), \n",
    "                      RandomCrop(IMAGE_SIZE), \n",
    "                      ToTensor(), \n",
    "                      Normalize()])\n",
    "\n",
    "test_random_dataset = RandomCaptionDataset('./flickr8k/images/test', test_annotations_file, transform=test_transforms)\n",
    "\n",
    "test_random_loader = DataLoader(test_random_dataset, batch_size=batch_size)"
   ]
  },
  {
   "cell_type": "code",
   "execution_count": 43,
   "metadata": {},
   "outputs": [
    {
     "name": "stdout",
     "output_type": "stream",
     "text": [
      "situated\n",
      "tensor(6631, device='cuda:0')\n",
      "rodent\n",
      "tensor(6167, device='cuda:0')\n",
      "cheered\n",
      "tensor(2094, device='cuda:0')\n",
      "window\n",
      "tensor(8119, device='cuda:0')\n",
      "enclosure\n",
      "tensor(3022, device='cuda:0')\n",
      "checker\n",
      "tensor(2085, device='cuda:0')\n",
      "kite\n",
      "tensor(4354, device='cuda:0')\n",
      "hind\n",
      "tensor(3988, device='cuda:0')\n",
      "Green\n",
      "tensor(382, device='cuda:0')\n",
      "footprints\n",
      "tensor(3443, device='cuda:0')\n",
      "autumn\n",
      "tensor(1260, device='cuda:0')\n",
      "bodyboard\n",
      "tensor(1640, device='cuda:0')\n",
      "Christ\n",
      "tensor(216, device='cuda:0')\n",
      "catc\n",
      "tensor(2010, device='cuda:0')\n",
      "glowing\n",
      "tensor(3641, device='cuda:0')\n",
      "locking\n",
      "tensor(4591, device='cuda:0')\n",
      "bubbles\n",
      "tensor(1803, device='cuda:0')\n",
      "collar\n",
      "tensor(2278, device='cuda:0')\n",
      "acrobatics\n",
      "tensor(981, device='cuda:0')\n",
      "Time\n",
      "tensor(861, device='cuda:0')\n",
      "array\n",
      "tensor(1189, device='cuda:0')\n",
      "situated rodent cheered window enclosure checker kite hind Green footprints autumn bodyboard Christ catc glowing locking bubbles collar acrobatics Time array\n"
     ]
    }
   ],
   "source": [
    "with torch.no_grad():\n",
    "    \n",
    "    for sample in test_random_loader:\n",
    "        \n",
    "        caption = list()\n",
    "\n",
    "        # Random init the lstm state\n",
    "        h0 = torch.rand((1, batch_size, hidden_size)).to(device, dtype=torch.float)\n",
    "        c0 = torch.rand((1, batch_size, hidden_size)).to(device, dtype=torch.float)\n",
    "\n",
    "        # Encode input image\n",
    "        image = sample['image'].to(device, dtype=torch.float)\n",
    "        image_embedding = cnn(image).view(-1, batch_size, EMBEDDING_SIZE).to(device)\n",
    "\n",
    "        # Get first word prediction probabilities\n",
    "        (hn, cn), probs = model(image_embedding, (h0, c0))\n",
    "\n",
    "        # Extract predicted word\n",
    "        pred_idx = torch.argmax(probs)\n",
    "        pred_word_vect = tp.encoding_matrix[pred_idx]\n",
    "        predicted_word = tp.vect_to_word(pred_word_vect)\n",
    "\n",
    "        caption.append(predicted_word)\n",
    "        \n",
    "        print(predicted_word)\n",
    "        print(pred_idx)\n",
    "        \n",
    "        i = 0\n",
    "        # Build caption until model outputs stop word\n",
    "        while predicted_word != '<stop>' and i < 20:\n",
    "\n",
    "            word_embedding = embedding(pred_idx).view(1, batch_size, EMBEDDING_SIZE).to(device)\n",
    "\n",
    "            (hn, cn), probs = model(word_embedding, (hn, cn))\n",
    "\n",
    "            pred_idx = torch.argmax(probs)\n",
    "            pred_word_vect = tp.encoding_matrix[pred_idx]\n",
    "            predicted_word = tp.vect_to_word(pred_word_vect)\n",
    "\n",
    "            caption.append(predicted_word)\n",
    "\n",
    "            print(predicted_word)\n",
    "            print(pred_idx)\n",
    "            \n",
    "            i += 1\n",
    "\n",
    "        caption = \" \".join(caption)\n",
    "\n",
    "        print(caption)\n",
    "        \n",
    "        break"
   ]
  }
 ],
 "metadata": {
  "kernelspec": {
   "display_name": "Python 3",
   "language": "python",
   "name": "python3"
  },
  "language_info": {
   "codemirror_mode": {
    "name": "ipython",
    "version": 3
   },
   "file_extension": ".py",
   "mimetype": "text/x-python",
   "name": "python",
   "nbconvert_exporter": "python",
   "pygments_lexer": "ipython3",
   "version": "3.8.3"
  }
 },
 "nbformat": 4,
 "nbformat_minor": 4
}
